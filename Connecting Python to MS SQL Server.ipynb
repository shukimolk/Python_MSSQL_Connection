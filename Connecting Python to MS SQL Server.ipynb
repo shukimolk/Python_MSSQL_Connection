{
 "cells": [
  {
   "cell_type": "markdown",
   "id": "c978598f",
   "metadata": {},
   "source": [
    "<font size=6> __Connecting to MS SQL Server using sqlalchemy__</font>"
   ]
  },
  {
   "cell_type": "markdown",
   "id": "a860bac4",
   "metadata": {},
   "source": [
    "<font size=3>Notice: This script will not execute in google colab</font>"
   ]
  },
  {
   "cell_type": "markdown",
   "id": "146b562b",
   "metadata": {},
   "source": [
    "<font size=3>Notice: This script is for connecting via Windows Authentication</font>"
   ]
  },
  {
   "cell_type": "markdown",
   "id": "52a18104",
   "metadata": {},
   "source": [
    "# Imports"
   ]
  },
  {
   "cell_type": "code",
   "execution_count": 43,
   "id": "d8c58ee8",
   "metadata": {},
   "outputs": [],
   "source": [
    "import pandas as pd\n",
    "from sqlalchemy import create_engine, text, update"
   ]
  },
  {
   "cell_type": "markdown",
   "id": "17c26a77",
   "metadata": {},
   "source": [
    "# Establishing connection"
   ]
  },
  {
   "cell_type": "markdown",
   "id": "35a94f86",
   "metadata": {},
   "source": [
    "## Set server"
   ]
  },
  {
   "cell_type": "code",
   "execution_count": 85,
   "id": "02850f3a",
   "metadata": {},
   "outputs": [],
   "source": [
    "server = '********\\SQLEXPRESS'\n",
    "# To find your server name, go to SSMS and execute: SELECT @@servername; it should look something like: 'NAME\\SQLEXPRESS' "
   ]
  },
  {
   "cell_type": "markdown",
   "id": "c97d972d",
   "metadata": {},
   "source": [
    "## Set database"
   ]
  },
  {
   "cell_type": "code",
   "execution_count": 86,
   "id": "140d49de",
   "metadata": {},
   "outputs": [],
   "source": [
    "database = 'tempdb'\n",
    "# Naturally you can also choose any other database that exists in your sql server"
   ]
  },
  {
   "cell_type": "markdown",
   "id": "8817bb8d",
   "metadata": {},
   "source": [
    "## Set driver"
   ]
  },
  {
   "cell_type": "code",
   "execution_count": 87,
   "id": "fa34136a",
   "metadata": {},
   "outputs": [],
   "source": [
    "driver = 'ODBC Driver 17 for SQL Server'"
   ]
  },
  {
   "cell_type": "code",
   "execution_count": 88,
   "id": "ec7ea33e",
   "metadata": {},
   "outputs": [
    {
     "data": {
      "text/plain": [
       "['SQL Server',\n",
       " 'MySQL ODBC 8.0 ANSI Driver',\n",
       " 'MySQL ODBC 8.0 Unicode Driver',\n",
       " 'SQL Server Native Client 11.0',\n",
       " 'SQL Server Native Client RDA 11.0',\n",
       " 'ODBC Driver 17 for SQL Server',\n",
       " 'Microsoft Access Driver (*.mdb, *.accdb)',\n",
       " 'Microsoft Excel Driver (*.xls, *.xlsx, *.xlsm, *.xlsb)',\n",
       " 'Microsoft Access Text Driver (*.txt, *.csv)']"
      ]
     },
     "execution_count": 88,
     "metadata": {},
     "output_type": "execute_result"
    }
   ],
   "source": [
    "# If you're not sure which driver to use, you can see a list of drivers by executing:\n",
    "import pyodbc\n",
    "pyodbc.drivers()\n",
    "\n",
    "# There's a good chance your driver is either:\n",
    "# 'ODBC Driver 17 for SQL Server'\n",
    "# or\n",
    "# 'SQL Server Native Client 11.0'"
   ]
  },
  {
   "cell_type": "markdown",
   "id": "62465e20",
   "metadata": {},
   "source": [
    "## Set connection string"
   ]
  },
  {
   "cell_type": "code",
   "execution_count": 89,
   "id": "6877e4a2",
   "metadata": {},
   "outputs": [
    {
     "name": "stdout",
     "output_type": "stream",
     "text": [
      "mssql+pyodbc://********\\SQLEXPRESS/tempdb?driver=ODBC Driver 17 for SQL Server\n"
     ]
    }
   ],
   "source": [
    "conx_string = f'mssql+pyodbc://{server}/{database}?driver={driver}'\n",
    "print(conx_string)"
   ]
  },
  {
   "cell_type": "code",
   "execution_count": 49,
   "id": "5cfaadb5",
   "metadata": {},
   "outputs": [],
   "source": [
    "engine = create_engine(conx_string)"
   ]
  },
  {
   "cell_type": "code",
   "execution_count": 50,
   "id": "8de26c85",
   "metadata": {},
   "outputs": [],
   "source": [
    "# create a SQLAlchemy connection object\n",
    "conn = engine.connect()"
   ]
  },
  {
   "cell_type": "markdown",
   "id": "006ece2a",
   "metadata": {},
   "source": [
    "# Executing SQL queries"
   ]
  },
  {
   "cell_type": "markdown",
   "id": "935a1fcc",
   "metadata": {},
   "source": [
    "## Define a function for executing SQL query"
   ]
  },
  {
   "cell_type": "code",
   "execution_count": 51,
   "id": "6f003a51",
   "metadata": {},
   "outputs": [],
   "source": [
    "def execute_SQL(query_SQL):\n",
    "    with engine.connect() as conn:\n",
    "        stmt = text(query_SQL)\n",
    "        conn.execute(stmt)\n",
    "        conn.commit()"
   ]
  },
  {
   "cell_type": "markdown",
   "id": "e3aeacdd",
   "metadata": {},
   "source": [
    "## Create"
   ]
  },
  {
   "cell_type": "code",
   "execution_count": 52,
   "id": "0ab8b296",
   "metadata": {},
   "outputs": [],
   "source": [
    "create_tryout1_SQL = '''\n",
    "CREATE TABLE tryout1 (try_id INT, try_name VARCHAR(50))\n",
    "'''"
   ]
  },
  {
   "cell_type": "code",
   "execution_count": 53,
   "id": "881c432c",
   "metadata": {},
   "outputs": [],
   "source": [
    "execute_SQL(create_tryout1_SQL)"
   ]
  },
  {
   "cell_type": "code",
   "execution_count": 54,
   "id": "5692de7b",
   "metadata": {},
   "outputs": [],
   "source": [
    "# Check your tempdb database to find tryout1 was created (although still empty)."
   ]
  },
  {
   "cell_type": "markdown",
   "id": "90ad5b21",
   "metadata": {},
   "source": [
    "## Insert"
   ]
  },
  {
   "cell_type": "code",
   "execution_count": 55,
   "id": "96d04a90",
   "metadata": {},
   "outputs": [],
   "source": [
    "insert_tryout1_SQL = '''\n",
    "INSERT INTO tryout1\n",
    "VALUES\n",
    "  (1, 'This was a triumph')\n",
    ", (2, 'I''m making a note here: Huge success!')\n",
    ", (3, 'It''s hard to overstate my satisfaction.')\n",
    "'''"
   ]
  },
  {
   "cell_type": "code",
   "execution_count": 56,
   "id": "acb136eb",
   "metadata": {},
   "outputs": [],
   "source": [
    "execute_SQL(insert_tryout1_SQL)"
   ]
  },
  {
   "cell_type": "code",
   "execution_count": 57,
   "id": "808c81bf",
   "metadata": {},
   "outputs": [],
   "source": [
    "# Check your tempdb database to find tryout1 now has data."
   ]
  },
  {
   "cell_type": "markdown",
   "id": "55e369d5",
   "metadata": {},
   "source": [
    "## Update"
   ]
  },
  {
   "cell_type": "code",
   "execution_count": 58,
   "id": "5a3b4437",
   "metadata": {},
   "outputs": [],
   "source": [
    "update_tryout1_SQL = '''\n",
    "UPDATE tryout1\n",
    "SET try_id = 100\n",
    "WHERE try_id = 3\n",
    "'''"
   ]
  },
  {
   "cell_type": "code",
   "execution_count": 59,
   "id": "fd3e504b",
   "metadata": {},
   "outputs": [],
   "source": [
    "execute_SQL(update_tryout1_SQL)"
   ]
  },
  {
   "cell_type": "code",
   "execution_count": 60,
   "id": "86a5fd7a",
   "metadata": {},
   "outputs": [],
   "source": [
    "# Check your tempdb database to find try_id 3 is now 100."
   ]
  },
  {
   "cell_type": "markdown",
   "id": "f25ec9bb",
   "metadata": {},
   "source": [
    "## Read"
   ]
  },
  {
   "cell_type": "code",
   "execution_count": 61,
   "id": "50069d8d",
   "metadata": {},
   "outputs": [],
   "source": [
    "# For reading we would need to do something a little different"
   ]
  },
  {
   "cell_type": "code",
   "execution_count": 62,
   "id": "d1f89cab",
   "metadata": {},
   "outputs": [],
   "source": [
    "select_tryout1_SQL = '''\n",
    "SELECT *\n",
    "FROM tryout1\n",
    "WHERE try_id >= 2\n",
    "'''"
   ]
  },
  {
   "cell_type": "code",
   "execution_count": 63,
   "id": "baf5efa4",
   "metadata": {},
   "outputs": [],
   "source": [
    "# If we just do that:\n",
    "tryout1_df = execute_SQL(select_tryout1_SQL)"
   ]
  },
  {
   "cell_type": "code",
   "execution_count": 64,
   "id": "0dd62c31",
   "metadata": {},
   "outputs": [
    {
     "name": "stdout",
     "output_type": "stream",
     "text": [
      "None\n",
      "<class 'NoneType'>\n"
     ]
    }
   ],
   "source": [
    "# We get nothing (because our `execute_SQL` function has no return...)\n",
    "print(tryout1_df)\n",
    "print(type(tryout1_df))"
   ]
  },
  {
   "cell_type": "code",
   "execution_count": 65,
   "id": "2d02b3c8",
   "metadata": {},
   "outputs": [],
   "source": [
    "# Instead, we use the `read_sql_query` function.\n",
    "# Remember - our query has to pass as text()\n",
    "tryout1_df = pd.read_sql_query(text(select_tryout1_SQL), engine.connect())"
   ]
  },
  {
   "cell_type": "code",
   "execution_count": 66,
   "id": "bf49806d",
   "metadata": {
    "scrolled": true
   },
   "outputs": [
    {
     "data": {
      "text/html": [
       "<div>\n",
       "<style scoped>\n",
       "    .dataframe tbody tr th:only-of-type {\n",
       "        vertical-align: middle;\n",
       "    }\n",
       "\n",
       "    .dataframe tbody tr th {\n",
       "        vertical-align: top;\n",
       "    }\n",
       "\n",
       "    .dataframe thead th {\n",
       "        text-align: right;\n",
       "    }\n",
       "</style>\n",
       "<table border=\"1\" class=\"dataframe\">\n",
       "  <thead>\n",
       "    <tr style=\"text-align: right;\">\n",
       "      <th></th>\n",
       "      <th>try_id</th>\n",
       "      <th>try_name</th>\n",
       "    </tr>\n",
       "  </thead>\n",
       "  <tbody>\n",
       "    <tr>\n",
       "      <th>0</th>\n",
       "      <td>2</td>\n",
       "      <td>I'm making a note here: Huge success!</td>\n",
       "    </tr>\n",
       "    <tr>\n",
       "      <th>1</th>\n",
       "      <td>100</td>\n",
       "      <td>It's hard to overstate my satisfaction.</td>\n",
       "    </tr>\n",
       "  </tbody>\n",
       "</table>\n",
       "</div>"
      ],
      "text/plain": [
       "   try_id                                 try_name\n",
       "0       2    I'm making a note here: Huge success!\n",
       "1     100  It's hard to overstate my satisfaction."
      ]
     },
     "execution_count": 66,
     "metadata": {},
     "output_type": "execute_result"
    }
   ],
   "source": [
    "tryout1_df"
   ]
  },
  {
   "cell_type": "code",
   "execution_count": 67,
   "id": "c7901e14",
   "metadata": {},
   "outputs": [],
   "source": [
    "# Let's wrap it in a form of a function\n",
    "def read_SQL(query_SQL):\n",
    "    res_df = pd.read_sql_query(text(query_SQL), engine.connect())\n",
    "    return res_df "
   ]
  },
  {
   "cell_type": "code",
   "execution_count": 68,
   "id": "dbddf8e2",
   "metadata": {},
   "outputs": [],
   "source": [
    "tryout1_df_by_func = read_SQL(select_tryout1_SQL)"
   ]
  },
  {
   "cell_type": "code",
   "execution_count": 69,
   "id": "3e79a171",
   "metadata": {},
   "outputs": [
    {
     "data": {
      "text/html": [
       "<div>\n",
       "<style scoped>\n",
       "    .dataframe tbody tr th:only-of-type {\n",
       "        vertical-align: middle;\n",
       "    }\n",
       "\n",
       "    .dataframe tbody tr th {\n",
       "        vertical-align: top;\n",
       "    }\n",
       "\n",
       "    .dataframe thead th {\n",
       "        text-align: right;\n",
       "    }\n",
       "</style>\n",
       "<table border=\"1\" class=\"dataframe\">\n",
       "  <thead>\n",
       "    <tr style=\"text-align: right;\">\n",
       "      <th></th>\n",
       "      <th>try_id</th>\n",
       "      <th>try_name</th>\n",
       "    </tr>\n",
       "  </thead>\n",
       "  <tbody>\n",
       "    <tr>\n",
       "      <th>0</th>\n",
       "      <td>2</td>\n",
       "      <td>I'm making a note here: Huge success!</td>\n",
       "    </tr>\n",
       "    <tr>\n",
       "      <th>1</th>\n",
       "      <td>100</td>\n",
       "      <td>It's hard to overstate my satisfaction.</td>\n",
       "    </tr>\n",
       "  </tbody>\n",
       "</table>\n",
       "</div>"
      ],
      "text/plain": [
       "   try_id                                 try_name\n",
       "0       2    I'm making a note here: Huge success!\n",
       "1     100  It's hard to overstate my satisfaction."
      ]
     },
     "execution_count": 69,
     "metadata": {},
     "output_type": "execute_result"
    }
   ],
   "source": [
    "tryout1_df_by_func"
   ]
  },
  {
   "cell_type": "markdown",
   "id": "04a21130",
   "metadata": {},
   "source": [
    "## Drop"
   ]
  },
  {
   "cell_type": "code",
   "execution_count": 70,
   "id": "2d61a1ad",
   "metadata": {},
   "outputs": [],
   "source": [
    "drop_tryout1_SQL = '''\n",
    "DROP TABLE tryout1\n",
    "'''"
   ]
  },
  {
   "cell_type": "code",
   "execution_count": 71,
   "id": "7997550a",
   "metadata": {},
   "outputs": [],
   "source": [
    "execute_SQL(drop_tryout1_SQL)"
   ]
  },
  {
   "cell_type": "code",
   "execution_count": 72,
   "id": "bdd792f4",
   "metadata": {},
   "outputs": [],
   "source": [
    "# Check your tempdb database to find tryout1 does not exist."
   ]
  },
  {
   "cell_type": "markdown",
   "id": "c0ad35b2",
   "metadata": {},
   "source": [
    "## Loading a DataFrame into MS SQL Server"
   ]
  },
  {
   "cell_type": "code",
   "execution_count": 73,
   "id": "0c8600df",
   "metadata": {},
   "outputs": [],
   "source": [
    "# This is actually extremely easy, we just use the to_sql() method"
   ]
  },
  {
   "cell_type": "code",
   "execution_count": 74,
   "id": "93c467ef",
   "metadata": {},
   "outputs": [],
   "source": [
    "# Getting some data\n",
    "ny_baby = pd.read_csv(r'https://data.cityofnewyork.us/api/views/25th-nujf/rows.csv?accessType=DOWNLOAD')"
   ]
  },
  {
   "cell_type": "code",
   "execution_count": 75,
   "id": "0f4b5e46",
   "metadata": {},
   "outputs": [
    {
     "data": {
      "text/html": [
       "<div>\n",
       "<style scoped>\n",
       "    .dataframe tbody tr th:only-of-type {\n",
       "        vertical-align: middle;\n",
       "    }\n",
       "\n",
       "    .dataframe tbody tr th {\n",
       "        vertical-align: top;\n",
       "    }\n",
       "\n",
       "    .dataframe thead th {\n",
       "        text-align: right;\n",
       "    }\n",
       "</style>\n",
       "<table border=\"1\" class=\"dataframe\">\n",
       "  <thead>\n",
       "    <tr style=\"text-align: right;\">\n",
       "      <th></th>\n",
       "      <th>Year of Birth</th>\n",
       "      <th>Gender</th>\n",
       "      <th>Ethnicity</th>\n",
       "      <th>Child's First Name</th>\n",
       "      <th>Count</th>\n",
       "      <th>Rank</th>\n",
       "    </tr>\n",
       "  </thead>\n",
       "  <tbody>\n",
       "    <tr>\n",
       "      <th>15200</th>\n",
       "      <td>2014</td>\n",
       "      <td>MALE</td>\n",
       "      <td>WHITE NON HISPANIC</td>\n",
       "      <td>Leonardo</td>\n",
       "      <td>36</td>\n",
       "      <td>76</td>\n",
       "    </tr>\n",
       "    <tr>\n",
       "      <th>43388</th>\n",
       "      <td>2012</td>\n",
       "      <td>MALE</td>\n",
       "      <td>WHITE NON HISP</td>\n",
       "      <td>ROMAN</td>\n",
       "      <td>16</td>\n",
       "      <td>88</td>\n",
       "    </tr>\n",
       "    <tr>\n",
       "      <th>22904</th>\n",
       "      <td>2014</td>\n",
       "      <td>FEMALE</td>\n",
       "      <td>WHITE NON HISPANIC</td>\n",
       "      <td>Parker</td>\n",
       "      <td>17</td>\n",
       "      <td>79</td>\n",
       "    </tr>\n",
       "    <tr>\n",
       "      <th>5127</th>\n",
       "      <td>2012</td>\n",
       "      <td>MALE</td>\n",
       "      <td>ASIAN AND PACI</td>\n",
       "      <td>ROHAN</td>\n",
       "      <td>20</td>\n",
       "      <td>51</td>\n",
       "    </tr>\n",
       "    <tr>\n",
       "      <th>19326</th>\n",
       "      <td>2012</td>\n",
       "      <td>MALE</td>\n",
       "      <td>HISPANIC</td>\n",
       "      <td>HUNTER</td>\n",
       "      <td>12</td>\n",
       "      <td>98</td>\n",
       "    </tr>\n",
       "  </tbody>\n",
       "</table>\n",
       "</div>"
      ],
      "text/plain": [
       "       Year of Birth  Gender           Ethnicity Child's First Name  Count  \\\n",
       "15200           2014    MALE  WHITE NON HISPANIC           Leonardo     36   \n",
       "43388           2012    MALE      WHITE NON HISP              ROMAN     16   \n",
       "22904           2014  FEMALE  WHITE NON HISPANIC             Parker     17   \n",
       "5127            2012    MALE      ASIAN AND PACI              ROHAN     20   \n",
       "19326           2012    MALE            HISPANIC             HUNTER     12   \n",
       "\n",
       "       Rank  \n",
       "15200    76  \n",
       "43388    88  \n",
       "22904    79  \n",
       "5127     51  \n",
       "19326    98  "
      ]
     },
     "execution_count": 75,
     "metadata": {},
     "output_type": "execute_result"
    }
   ],
   "source": [
    "ny_baby.sample(5)"
   ]
  },
  {
   "cell_type": "code",
   "execution_count": 76,
   "id": "adb79852",
   "metadata": {},
   "outputs": [
    {
     "data": {
      "text/plain": [
       "300"
      ]
     },
     "execution_count": 76,
     "metadata": {},
     "output_type": "execute_result"
    }
   ],
   "source": [
    "# Loading it into SQL\n",
    "ny_baby.to_sql('ny_baby', con=engine, if_exists='replace', index=False)"
   ]
  },
  {
   "cell_type": "code",
   "execution_count": 77,
   "id": "bfe3a621",
   "metadata": {},
   "outputs": [],
   "source": [
    "# Check your tempdb database to find ny_baby table with all its content."
   ]
  },
  {
   "cell_type": "markdown",
   "id": "36c66e3b",
   "metadata": {},
   "source": [
    "# Extras"
   ]
  },
  {
   "cell_type": "markdown",
   "id": "c0bc2465",
   "metadata": {},
   "source": [
    "## Improved functions (try / except)"
   ]
  },
  {
   "cell_type": "code",
   "execution_count": 90,
   "id": "e1d71c04",
   "metadata": {},
   "outputs": [],
   "source": [
    "def execute_SQL(query_SQL):\n",
    "    try:\n",
    "        with engine.connect() as conn:\n",
    "            stmt = text(query_SQL)\n",
    "            conn.execute(stmt)\n",
    "            conn.commit()\n",
    "            conn.close()\n",
    "            print('Execution done')\n",
    "    except Exception as e:\n",
    "        print(e)"
   ]
  },
  {
   "cell_type": "code",
   "execution_count": 91,
   "id": "4f1e98f9",
   "metadata": {},
   "outputs": [],
   "source": [
    "def read_SQL(query_SQL):\n",
    "    try:\n",
    "        res_df = pd.read_sql_query(text(query_SQL), engine.connect())\n",
    "        conn.close()\n",
    "        print('Query reading done')\n",
    "        return res_df\n",
    "    except Exception as e:\n",
    "        print(e)"
   ]
  },
  {
   "cell_type": "code",
   "execution_count": null,
   "id": "c5837a91",
   "metadata": {},
   "outputs": [],
   "source": []
  }
 ],
 "metadata": {
  "kernelspec": {
   "display_name": "Python 3 (ipykernel)",
   "language": "python",
   "name": "python3"
  },
  "language_info": {
   "codemirror_mode": {
    "name": "ipython",
    "version": 3
   },
   "file_extension": ".py",
   "mimetype": "text/x-python",
   "name": "python",
   "nbconvert_exporter": "python",
   "pygments_lexer": "ipython3",
   "version": "3.10.2"
  },
  "toc": {
   "base_numbering": 1,
   "nav_menu": {},
   "number_sections": true,
   "sideBar": true,
   "skip_h1_title": false,
   "title_cell": "Table of Contents",
   "title_sidebar": "Contents",
   "toc_cell": false,
   "toc_position": {
    "height": "calc(100% - 180px)",
    "left": "10px",
    "top": "150px",
    "width": "236px"
   },
   "toc_section_display": true,
   "toc_window_display": true
  }
 },
 "nbformat": 4,
 "nbformat_minor": 5
}
